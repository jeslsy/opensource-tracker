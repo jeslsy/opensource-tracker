{
 "cells": [
  {
   "cell_type": "code",
   "execution_count": 36,
   "id": "dfb02a8c",
   "metadata": {},
   "outputs": [],
   "source": [
    "psql_params = {\n",
    "    'address': 'host',\n",
    "    'db_name': 'dbname',\n",
    "    'port': '5432',\n",
    "}\n",
    "\n",
    "psql_auth = {\n",
    "    'auth_user': 'username',\n",
    "    'auth_pw': 'userpassword'\n",
    "}"
   ]
  },
  {
   "cell_type": "code",
   "execution_count": 35,
   "id": "254afdc6",
   "metadata": {},
   "outputs": [],
   "source": [
    "import psycopg2\n",
    "from psycopg2.extras import execute_batch\n",
    "\n",
    "\n",
    "class psqlConnector:\n",
    "    def __init__(self):\n",
    "        self.conn = psycopg2.connect(\n",
    "            host = psql_params['address'],\n",
    "            dbname = psql_params['db_name'],\n",
    "            user = psql_auth['auth_user'],\n",
    "            password = psql_auth['auth_pw'],\n",
    "            port = psql_params['port']\n",
    "        )\n",
    "\n",
    "        \n",
    "    def _database(self):\n",
    "        self.cur = self.conn.cursor()\n",
    "        return self.cur\n",
    "\n",
    "    \n",
    "    def select_data(self):\n",
    "        pass\n",
    "\n",
    "    \n",
    "    def insert_data(self, query, values):\n",
    "        _cur = self._database()\n",
    "        try:\n",
    "            _cur.execute(query, values)\n",
    "            self.conn.commit()\n",
    "\n",
    "            print(f\">>> Successfully inserted data into table\")\n",
    "\n",
    "        except psycopg2.Error as e:\n",
    "            self.conn.rollback()\n",
    "            print(f\">>> failed insert data into table: {e}\")\n",
    "        \n",
    "        else:\n",
    "            _cur.close()\n",
    "        \n",
    "        \n",
    "    def insert_bulk_data(self, query, values): # 해당 함수는 좀 더 보완이 필요함 \n",
    "        _cur = self._database()\n",
    "        try:\n",
    "            execute_batch(_cur, query, values)\n",
    "            self.conn.commit()\n",
    "            _cur.close()\n",
    "            print(\">>> Successfully inserted data into table\")\n",
    "\n",
    "        except psycopg2.Error as e:\n",
    "            self.conn.rollback()\n",
    "            print(f\">>> failed insert data into table: {e}\")\n",
    "\n",
    "\n",
    "    def update_date(self, data, attribute):\n",
    "        pass\n",
    "    \n",
    "    \n",
    "    def disconnect(self):\n",
    "        if self.conn:\n",
    "            self.conn.close()\n",
    "            print(\">>> db disconnected!!\")"
   ]
  },
  {
   "cell_type": "code",
   "execution_count": 15,
   "id": "5ade9604",
   "metadata": {},
   "outputs": [],
   "source": [
    "import requests\n",
    "import datetime"
   ]
  },
  {
   "cell_type": "code",
   "execution_count": 16,
   "id": "3161030e",
   "metadata": {},
   "outputs": [],
   "source": [
    "from yarl import URL"
   ]
  },
  {
   "cell_type": "code",
   "execution_count": 17,
   "id": "6cc4b1ad",
   "metadata": {},
   "outputs": [],
   "source": [
    "HEADERS = {\n",
    "    'Accept': 'application/vnd.github+json',\n",
    "    'Authorization': 'Bearer <github access token>',\n",
    "    'X-GitHub-Api-Version': '2022-11-28'\n",
    "}"
   ]
  },
  {
   "cell_type": "code",
   "execution_count": 18,
   "id": "ab4141eb",
   "metadata": {},
   "outputs": [],
   "source": [
    "def get_json(url):\n",
    "    \"\"\"\n",
    "    url로 api 요청을 보내고, 응답값을 json 형태로 반환하는 함수입니다.\n",
    "    \n",
    "    Args:\n",
    "        url (str): 요청을 보낼 url 주소\n",
    "    \n",
    "    Returns:\n",
    "        dict or list(dict)\n",
    "    \"\"\"\n",
    "    req = requests.get(url, headers=HEADERS)\n",
    "    return req.json()"
   ]
  },
  {
   "cell_type": "code",
   "execution_count": 19,
   "id": "801c40d0",
   "metadata": {},
   "outputs": [],
   "source": [
    "def get_current_time():\n",
    "    \"\"\"\n",
    "    현재 시간과 날짜를 문자열 형태로 반환하는 함수입니다.\n",
    "    \n",
    "    Returns:\n",
    "        str -> 2023-05-30 18:42:24\n",
    "    \"\"\"\n",
    "    current_datetime = datetime.datetime.now()\n",
    "    return current_datetime.strftime(\"%Y-%m-%d %H:%M:%S\")"
   ]
  },
  {
   "cell_type": "code",
   "execution_count": 20,
   "id": "bf951b49",
   "metadata": {},
   "outputs": [],
   "source": [
    "def clean_orgs_data(repo_content):\n",
    "    \"\"\"\n",
    "    organization api 요청 응답 값을 DB에 적재하기 알맞은 형태로 정제하는 함수입니다.\n",
    "    \n",
    "    Returns:\n",
    "        dict\n",
    "    \"\"\"\n",
    "    return {\n",
    "    'orgs_id': repo_content['id'],\n",
    "    'node_id': repo_content['node_id'],\n",
    "    'name': repo_content['name'],\n",
    "    'description': repo_content['description'],\n",
    "    'company': repo_content['company'],\n",
    "    'blog': repo_content['blog'],\n",
    "    'location': repo_content['location'],\n",
    "    'email': repo_content['email'],\n",
    "    'twitter_username': repo_content['twitter_username'],\n",
    "    'followers': repo_content['followers'],\n",
    "    'following': repo_content['following'],\n",
    "    'is_verified': repo_content['is_verified'],\n",
    "    'has_organization_projects': repo_content['has_organization_projects'],\n",
    "    'has_repository_projects': repo_content['has_repository_projects'],\n",
    "    'public_repos': repo_content['public_repos'],\n",
    "    'public_gists': repo_content['public_gists'],\n",
    "    'html_url': repo_content['html_url'],\n",
    "    'avatar_url': repo_content['avatar_url'],\n",
    "    'type': repo_content['type'],\n",
    "    'created_at': repo_content['created_at'],\n",
    "    'updated_at': repo_content['updated_at'],\n",
    "    'called_at': get_current_time()\n",
    "}"
   ]
  },
  {
   "cell_type": "markdown",
   "id": "4dee73f5",
   "metadata": {},
   "source": [
    "#### SQL 문"
   ]
  },
  {
   "cell_type": "code",
   "execution_count": 21,
   "id": "2e5a964f",
   "metadata": {},
   "outputs": [],
   "source": [
    "API_ORGS_TABLE_INSERT_SQL = \"INSERT INTO adhoc.api_orgs (orgs_id, node_id, name,\\\n",
    "                  description, company, blog, location, email, twitter_username,\\\n",
    "                  followers, following, is_verified, has_organization_projects, \\\n",
    "                  has_repository_projects, public_repos, public_gists, html_url, \\\n",
    "                  avatar_url, type, created_at, updated_at, called_at) \\\n",
    "                      VALUES (%(orgs_id)s, %(node_id)s, %(name)s, %(description)s, \\\n",
    "                      %(company)s, %(blog)s, %(location)s, %(email)s, %(twitter_username)s, \\\n",
    "                      %(followers)s, %(following)s, %(is_verified)s, %(has_organization_projects)s,\\\n",
    "                      %(has_repository_projects)s, %(public_repos)s, %(public_gists)s, %(html_url)s,\\\n",
    "                      %(avatar_url)s, %(type)s, %(created_at)s, %(updated_at)s, %(called_at)s);\""
   ]
  },
  {
   "cell_type": "code",
   "execution_count": 22,
   "id": "c7c753f8",
   "metadata": {},
   "outputs": [],
   "source": [
    "# users 데이터는 형태 없으므로 위 api_orgs_table_insert_sql 값만 사용합니다.\n",
    "API_USERS_TABLE_INSERT_SQL = \"INSERT INTO adhoc.api_users (users_id, node_id, name,\\\n",
    "                  company, blog, location, email, bio, twitter_username,\\\n",
    "                  followers, following, public_repos, public_gists, html_url, \\\n",
    "                  avatar_url, type, created_at, updated_at, called_at) \\\n",
    "                      VALUES (%(users_id)s, %(node_id)s, %(name)s, %(company)s, \\\n",
    "                       %(blog)s, %(location)s, %(email)s, %(bio)s, %(twitter_username)s, \\\n",
    "                      %(followers)s, %(following)s, %(public_repos)s, %(public_gists)s, %(html_url)s,\\\n",
    "                      %(avatar_url)s, %(type)s, %(created_at)s, %(updated_at)s, %(called_at)s);\""
   ]
  },
  {
   "cell_type": "markdown",
   "id": "b39ba0c6",
   "metadata": {},
   "source": [
    "### main 함수"
   ]
  },
  {
   "cell_type": "code",
   "execution_count": 33,
   "id": "82183d7f",
   "metadata": {},
   "outputs": [],
   "source": [
    "def main():\n",
    "    db = psqlConnector()\n",
    "    orgs = ['moloco', 'woowabros', 'daangn', 'toss', \\\n",
    "    'ncsoft', 'line', 'kakao', 'naver', 'nhn']\n",
    "    for repo in orgs:\n",
    "        repo_url = URL('https://api.github.com').with_path(f'orgs/{repo}')\n",
    "        json_data = get_json(repo_url)\n",
    "        values = clean_orgs_data(json_data)\n",
    "        if values['name'] is None: # name이 없을 경우 명시적으로 회사명 입력하기\n",
    "            values['name'] = repo\n",
    "        db.insert_data(API_ORGS_TABLE_INSERT_SQL, values)\n",
    "    db.disconnect()"
   ]
  },
  {
   "cell_type": "code",
   "execution_count": 34,
   "id": "2e8bf98a",
   "metadata": {},
   "outputs": [
    {
     "name": "stdout",
     "output_type": "stream",
     "text": [
      ">>> Successfully inserted data into table\n",
      ">>> Successfully inserted data into table\n",
      ">>> Successfully inserted data into table\n",
      ">>> Successfully inserted data into table\n",
      ">>> Successfully inserted data into table\n",
      ">>> Successfully inserted data into table\n",
      ">>> Successfully inserted data into table\n",
      ">>> Successfully inserted data into table\n",
      ">>> Successfully inserted data into table\n",
      ">>> db disconnected!!\n"
     ]
    }
   ],
   "source": [
    "main()"
   ]
  },
  {
   "cell_type": "code",
   "execution_count": null,
   "id": "39b1a3a5",
   "metadata": {},
   "outputs": [],
   "source": []
  }
 ],
 "metadata": {
  "kernelspec": {
   "display_name": "Python 3.8.9 64-bit",
   "language": "python",
   "name": "python3"
  },
  "language_info": {
   "codemirror_mode": {
    "name": "ipython",
    "version": 3
   },
   "file_extension": ".py",
   "mimetype": "text/x-python",
   "name": "python",
   "nbconvert_exporter": "python",
   "pygments_lexer": "ipython3",
   "version": "3.8.9"
  },
  "vscode": {
   "interpreter": {
    "hash": "31f2aee4e71d21fbe5cf8b01ff0e069b9275f58929596ceb00d14d90e3e16cd6"
   }
  }
 },
 "nbformat": 4,
 "nbformat_minor": 5
}
